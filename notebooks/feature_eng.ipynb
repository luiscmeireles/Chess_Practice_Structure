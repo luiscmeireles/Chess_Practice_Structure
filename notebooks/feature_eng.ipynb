{
 "cells": [
  {
   "cell_type": "markdown",
   "metadata": {},
   "source": [
    "## LIBRARY IMPORTS"
   ]
  },
  {
   "cell_type": "code",
   "execution_count": null,
   "metadata": {},
   "outputs": [],
   "source": [
    "from main import *\n",
    "from feature import *\n",
    "from pre_process_utils import *\n",
    "import pandas as pd\n",
    "from pandas import Period\n",
    "import matplotlib.pyplot as plt\n",
    "import pickle\n",
    "import random\n",
    "import numpy as np\n",
    "from tqdm import tqdm\n",
    "from collections import Counter\n",
    "import chess\n",
    "from stockfish import Stockfish\n",
    "import re\n",
    "from datetime import datetime\n",
    "import ast\n",
    "from scipy.stats import linregress\n",
    "from tqdm.autonotebook import tqdm \n",
    "from collections import defaultdict\n",
    "from functools import reduce\n",
    "import chess\n"
   ]
  },
  {
   "cell_type": "markdown",
   "metadata": {},
   "source": [
    "## DATASET IMPORTS & PRE PROCESSING"
   ]
  },
  {
   "cell_type": "code",
   "execution_count": 2,
   "metadata": {},
   "outputs": [],
   "source": [
    "df = pd.read_csv('player_sample.csv')\n",
    "df.reset_index(drop=True, inplace=True)\n",
    "df.drop(columns=['Unnamed: 0'], inplace = True)"
   ]
  },
  {
   "cell_type": "code",
   "execution_count": 3,
   "metadata": {},
   "outputs": [],
   "source": [
    "df['monthly_played_games'] = df['monthly_played_games'].apply(convert_monthly_games_to_dict)"
   ]
  },
  {
   "cell_type": "code",
   "execution_count": 4,
   "metadata": {},
   "outputs": [],
   "source": [
    "df = filter_last_month_players(df) # only player reaching the last month"
   ]
  },
  {
   "cell_type": "code",
   "execution_count": 5,
   "metadata": {},
   "outputs": [],
   "source": [
    "df['active_months'] = df['monthly_played_games'].apply(lambda x: len(eval(x)) if isinstance(x, str) else len(x))"
   ]
  },
  {
   "cell_type": "code",
   "execution_count": 6,
   "metadata": {},
   "outputs": [],
   "source": [
    "final_months = pd.period_range(start='2014-01', end='2015-12', freq='M')"
   ]
  },
  {
   "cell_type": "code",
   "execution_count": 7,
   "metadata": {},
   "outputs": [],
   "source": [
    "df['has_18_recent_months'] = df['monthly_played_games'].apply(has_enough_recent_months)\n",
    "df = df[df['has_18_recent_months']] #only players with games played with data in the last 18 months counting from the last month"
   ]
  },
  {
   "cell_type": "code",
   "execution_count": 8,
   "metadata": {},
   "outputs": [],
   "source": [
    "df.drop(columns='has_18_recent_months', inplace=True)\n",
    "df.rename(columns={'abolsute_delta_elo': 'absolute_delta_elo', 'played_id': 'player_id'}, inplace=True)"
   ]
  },
  {
   "cell_type": "markdown",
   "metadata": {},
   "source": [
    "## FEATURE ENGINEERING"
   ]
  },
  {
   "cell_type": "code",
   "execution_count": 9,
   "metadata": {},
   "outputs": [
    {
     "name": "stdout",
     "output_type": "stream",
     "text": [
      "The final Elo rating median is 1662.5\n",
      "The final Elo rating average is 1666.3740920096852\n",
      "The std deviation for the final Elo rating average is 184.1142247745298\n"
     ]
    }
   ],
   "source": [
    "mu = df['final_elo_rating'].mean()\n",
    "media_fina_elo = df['final_elo_rating'].median()\n",
    "print(f'The final Elo rating median is {media_fina_elo}')\n",
    "print(f'The final Elo rating average is {mu}')\n",
    "sigma = df['final_elo_rating'].std()\n",
    "print(f'The std deviation for the final Elo rating average is {sigma}')\n",
    "k = 0.5\n",
    "months = df['active_months']\n",
    "stockfish_path = '/Users/luismeireles/Desktop/Python_programming/chess_25/stockfish/stockfish-macos-m1-apple-silicon'"
   ]
  },
  {
   "cell_type": "markdown",
   "metadata": {},
   "source": [
    "# Adjusted Growth Rate"
   ]
  },
  {
   "cell_type": "code",
   "execution_count": 10,
   "metadata": {},
   "outputs": [],
   "source": [
    "df['growth_rate'] = df['absolute_delta_elo']/months\n",
    "df['percentile'] = norm.cdf((df['final_elo_rating'] - mu)/ sigma)\n",
    "df['adjusted_growth_rate'] = df['growth_rate'] * (k + df['percentile'])"
   ]
  },
  {
   "cell_type": "markdown",
   "metadata": {},
   "source": [
    "# Flattening the data into Long Format/Panel"
   ]
  },
  {
   "cell_type": "code",
   "execution_count": 11,
   "metadata": {},
   "outputs": [],
   "source": [
    "# Apply safe conversion (only if needed)\n",
    "df['monthly_played_games'] = df['monthly_played_games'].apply(safe_parse_dict)\n",
    "df['max_elo_per_month'] = df['max_elo_per_month'].apply(safe_parse_dict)\n",
    "\n",
    "# 1. Normalize monthly_played_games into long format\n",
    "games_records = []\n",
    "for _, row in df.iterrows():\n",
    "    mpg = row['monthly_played_games']\n",
    "    if isinstance(mpg, dict):\n",
    "        for k, v in mpg.items():\n",
    "            games_records.append({\n",
    "                'player_id': row['player_id'],\n",
    "                'month': pd.to_datetime(k, format='%m-%Y').strftime('%Y-%m'),\n",
    "                'games_played': v\n",
    "            })\n",
    "games_df = pd.DataFrame(games_records)\n",
    "\n",
    "# 2. Normalize max_elo_per_month into long format\n",
    "elo_records = []\n",
    "for _, row in df.iterrows():\n",
    "    elo = row['max_elo_per_month']\n",
    "    if isinstance(elo, dict):\n",
    "        for k, v in elo.items():\n",
    "            elo_records.append({\n",
    "                'player_id': row['player_id'],\n",
    "                'month': pd.to_datetime(k, format='%Y-%m').strftime('%Y-%m'),\n",
    "                'monthly_max_elo': v\n",
    "            })\n",
    "elo_df = pd.DataFrame(elo_records)\n",
    "\n",
    "# 3. Merge on player_id and month — only keep rows where both values exist\n",
    "panel_df = pd.merge(games_df, elo_df, on=['player_id', 'month'], how='inner')\n",
    "\n",
    "# 4. Sort chronologically\n",
    "panel_df = panel_df.sort_values(by=['player_id', 'month']).reset_index(drop=True)"
   ]
  },
  {
   "cell_type": "code",
   "execution_count": 12,
   "metadata": {},
   "outputs": [],
   "source": [
    "players_list = df['player_id'].to_list()"
   ]
  },
  {
   "cell_type": "markdown",
   "metadata": {},
   "source": [
    "# Importing relevant Game Info For The Selected Players // Filter by the List of Players // Preprocessing Dates"
   ]
  },
  {
   "cell_type": "code",
   "execution_count": 13,
   "metadata": {},
   "outputs": [],
   "source": [
    "games_df = pd.read_feather('df_final.feather')\n",
    "player_games = games_df[\n",
    "    games_df['White'].isin(players_list) | games_df['Black'].isin(players_list)\n",
    "].copy()"
   ]
  },
  {
   "cell_type": "code",
   "execution_count": 14,
   "metadata": {},
   "outputs": [],
   "source": [
    "player_games[['player_id', 'player_color']] = player_games.apply(assign_player_id_and_color, axis=1, args=(players_list,))"
   ]
  },
  {
   "cell_type": "code",
   "execution_count": 15,
   "metadata": {},
   "outputs": [],
   "source": [
    "player_games = preprocess_games(player_games)"
   ]
  },
  {
   "cell_type": "code",
   "execution_count": 16,
   "metadata": {},
   "outputs": [],
   "source": [
    "player_games = player_games.copy()\n",
    "player_games['month_year'] = pd.to_datetime(player_games['UTCDate'], errors='coerce').dt.to_period(\"M\")"
   ]
  },
  {
   "cell_type": "code",
   "execution_count": 17,
   "metadata": {},
   "outputs": [],
   "source": [
    "entropy_2gram_df = compute_monthly_ngram_entropy_df(player_games, n_gram_size=2)\n"
   ]
  },
  {
   "cell_type": "code",
   "execution_count": 18,
   "metadata": {},
   "outputs": [],
   "source": [
    "panel_df['month'] = pd.to_datetime(panel_df['month']).dt.to_period(\"M\")\n",
    "\n",
    "# Merge the entropy into the panel (for 2-grams)\n",
    "panel_df = panel_df.merge(\n",
    "    entropy_2gram_df[['player_id', 'month', 'entropy']],\n",
    "    on=['player_id', 'month'],\n",
    "    how='left'\n",
    ")\n",
    "\n",
    "panel_df = panel_df.rename(columns={'entropy': 'entropy_2gram'})"
   ]
  },
  {
   "cell_type": "markdown",
   "metadata": {},
   "source": [
    "# Trend Features (slopes, etc.) for Bigram Entropy"
   ]
  },
  {
   "cell_type": "code",
   "execution_count": 19,
   "metadata": {},
   "outputs": [],
   "source": [
    "trend_rows = []\n",
    "\n",
    "for player_id, group in panel_df.groupby(\"player_id\"):\n",
    "    row = {\"player_id\": player_id}\n",
    "\n",
    "    for feature in [\"entropy_2gram\"]:  # or add more like 'entropy_3gram'\n",
    "        series = group.set_index(\"month\")[feature]\n",
    "        weights = group.set_index(\"month\")[\"games_played\"]  # your game count column\n",
    "        row.update(compute_trend_features(series, weights, prefix=feature))\n",
    "\n",
    "    trend_rows.append(row)\n",
    "\n",
    "trend_df = pd.DataFrame(trend_rows)"
   ]
  },
  {
   "cell_type": "markdown",
   "metadata": {},
   "source": [
    "# Trend Features (slopes, etc.) for Engagement"
   ]
  },
  {
   "cell_type": "code",
   "execution_count": 20,
   "metadata": {},
   "outputs": [],
   "source": [
    "engagement_rows = []\n",
    "\n",
    "for player_id, group in panel_df.groupby(\"player_id\"):\n",
    "    row = {\"player_id\": player_id}\n",
    "\n",
    "    series = group.set_index(\"month\")[\"games_played\"]\n",
    "    weights = series.copy()\n",
    "\n",
    "    row.update(compute_trend_features(series, weights, prefix=\"engagement\", include_consistency=True))\n",
    "    engagement_rows.append(row)\n",
    "\n",
    "engagement_df = pd.DataFrame(engagement_rows)"
   ]
  },
  {
   "cell_type": "code",
   "execution_count": 21,
   "metadata": {},
   "outputs": [
    {
     "name": "stderr",
     "output_type": "stream",
     "text": [
      "100%|██████████| 826/826 [12:00<00:00,  1.15it/s]\n"
     ]
    }
   ],
   "source": [
    "spacing_data = compute_monthly_spacing(games_df, players_list)\n"
   ]
  },
  {
   "cell_type": "code",
   "execution_count": 22,
   "metadata": {},
   "outputs": [],
   "source": [
    "df[\"monthly_spacing\"] = df[\"player_id\"].map(spacing_data)"
   ]
  },
  {
   "cell_type": "code",
   "execution_count": 23,
   "metadata": {},
   "outputs": [],
   "source": [
    "panel_spacing_df = flatten_spacing_all_metrics(spacing_data)"
   ]
  },
  {
   "cell_type": "code",
   "execution_count": 24,
   "metadata": {},
   "outputs": [
    {
     "name": "stderr",
     "output_type": "stream",
     "text": [
      "/var/folders/zm/dw7mt8253b99836p5_v6fnfw0000gn/T/ipykernel_17543/2925647024.py:15: FutureWarning: Setting an item of incompatible dtype is deprecated and will raise an error in a future version of pandas. Value '['1403' '1846' '1416' ... '1577' '1620' '1293']' has dtype incompatible with float64, please explicitly cast to a compatible dtype first.\n",
      "  games_df.loc[white_mask, 'player_elo'] = games_df.loc[white_mask, 'WhiteElo']\n",
      "/var/folders/zm/dw7mt8253b99836p5_v6fnfw0000gn/T/ipykernel_17543/2925647024.py:16: FutureWarning: Setting an item of incompatible dtype is deprecated and will raise an error in a future version of pandas. Value '['1486' '1849' '1320' ... '1844' '1652' '1395']' has dtype incompatible with float64, please explicitly cast to a compatible dtype first.\n",
      "  games_df.loc[white_mask, 'opponent_elo'] = games_df.loc[white_mask, 'BlackElo']\n"
     ]
    }
   ],
   "source": [
    "# First, make sure players_list is a set for faster lookup\n",
    "players_set = set(players_list)\n",
    "\n",
    "# White mask\n",
    "white_mask = games_df['White'].isin(players_set)\n",
    "black_mask = games_df['Black'].isin(players_set)\n",
    "\n",
    "# Create empty columns\n",
    "games_df['player_id'] = None\n",
    "games_df['player_elo'] = np.nan\n",
    "games_df['opponent_elo'] = np.nan\n",
    "\n",
    "# Fill where player is White\n",
    "games_df.loc[white_mask, 'player_id'] = games_df.loc[white_mask, 'White']\n",
    "games_df.loc[white_mask, 'player_elo'] = games_df.loc[white_mask, 'WhiteElo']\n",
    "games_df.loc[white_mask, 'opponent_elo'] = games_df.loc[white_mask, 'BlackElo']\n",
    "\n",
    "# Fill where player is Black\n",
    "games_df.loc[black_mask, 'player_id'] = games_df.loc[black_mask, 'Black']\n",
    "games_df.loc[black_mask, 'player_elo'] = games_df.loc[black_mask, 'BlackElo']\n",
    "games_df.loc[black_mask, 'opponent_elo'] = games_df.loc[black_mask, 'WhiteElo']\n",
    "\n",
    "# Drop rows where player_id is still None (not in players_list)\n",
    "games_df = games_df.dropna(subset=['player_id'])\n"
   ]
  },
  {
   "cell_type": "markdown",
   "metadata": {},
   "source": [
    "# Trend Features (slopes, etc.) for Challenge"
   ]
  },
  {
   "cell_type": "code",
   "execution_count": 25,
   "metadata": {},
   "outputs": [],
   "source": [
    "games_df['UTCDate'] = pd.to_datetime(games_df['UTCDate'], errors='coerce')\n",
    "games_df['month'] = games_df['UTCDate'].dt.to_period('M')\n",
    "games_df['elo_diff'] = pd.to_numeric(games_df['player_elo'], errors='coerce') - pd.to_numeric(games_df['opponent_elo'], errors='coerce')\n"
   ]
  },
  {
   "cell_type": "code",
   "execution_count": 27,
   "metadata": {},
   "outputs": [],
   "source": [
    "games_df['win_prob'] = games_df['elo_diff'].apply(elo_win_probability)\n"
   ]
  },
  {
   "cell_type": "code",
   "execution_count": 29,
   "metadata": {},
   "outputs": [],
   "source": [
    "zone_counts = (\n",
    "    games_df\n",
    "    .groupby(['player_id', 'month', 'challenge_zone'])\n",
    "    .size()\n",
    "    .unstack(fill_value=0)\n",
    "    .reset_index()\n",
    ")\n",
    "\n",
    "zone_cols = ['optimal', 'underchallenged', 'overchallenged']\n",
    "zone_counts[zone_cols] = zone_counts[zone_cols].div(\n",
    "    zone_counts[zone_cols].sum(axis=1), axis=0\n",
    ")\n"
   ]
  },
  {
   "cell_type": "code",
   "execution_count": 30,
   "metadata": {},
   "outputs": [],
   "source": [
    "games_df['challenge_zone'] = games_df['win_prob'].apply(categorize_by_win_prob)"
   ]
  },
  {
   "cell_type": "code",
   "execution_count": 31,
   "metadata": {},
   "outputs": [],
   "source": [
    "panel_df = panel_df.merge(zone_counts, on=[\"player_id\", \"month\"], how=\"left\")\n"
   ]
  },
  {
   "cell_type": "code",
   "execution_count": 32,
   "metadata": {},
   "outputs": [],
   "source": [
    "challenge_rows = []\n",
    "\n",
    "for player_id, group in panel_df.groupby(\"player_id\"):\n",
    "    row = {\"player_id\": player_id}\n",
    "\n",
    "    series = group.set_index(\"month\")[\"optimal\"]\n",
    "    weights = group.set_index(\"month\")[\"games_played\"]\n",
    "\n",
    "    row.update(compute_trend_features(series, weights, prefix=\"optimal_challenge\"))\n",
    "    challenge_rows.append(row)\n",
    "\n",
    "challenge_df = pd.DataFrame(challenge_rows)"
   ]
  },
  {
   "cell_type": "markdown",
   "metadata": {},
   "source": [
    "## Computing Tactical Efficieny from Stockfish"
   ]
  },
  {
   "cell_type": "code",
   "execution_count": 43,
   "metadata": {},
   "outputs": [],
   "source": [
    "target_games = player_games[player_games['player_id'].isin(players_list)].copy()\n"
   ]
  },
  {
   "cell_type": "code",
   "execution_count": 46,
   "metadata": {},
   "outputs": [],
   "source": [
    "stockfish = Stockfish(path=\"stockfish/stockfish-macos-m1-apple-silicon\", parameters={\"Threads\": 2, \"Minimum Thinking Time\": 30})\n",
    "stockfish.set_depth(10)"
   ]
  },
  {
   "cell_type": "code",
   "execution_count": null,
   "metadata": {},
   "outputs": [
    {
     "data": {
      "application/vnd.jupyter.widget-view+json": {
       "model_id": "11bc3bd7b60f49218e6bd84ee55200e0",
       "version_major": 2,
       "version_minor": 0
      },
      "text/plain": [
       "Sampling per player-month:   0%|          | 0/19473 [00:00<?, ?it/s]"
      ]
     },
     "metadata": {},
     "output_type": "display_data"
    },
    {
     "ename": "KeyboardInterrupt",
     "evalue": "",
     "output_type": "error",
     "traceback": [
      "\u001b[0;31m---------------------------------------------------------------------------\u001b[0m",
      "\u001b[0;31mKeyboardInterrupt\u001b[0m                         Traceback (most recent call last)",
      "Cell \u001b[0;32mIn[51], line 1\u001b[0m\n\u001b[0;32m----> 1\u001b[0m sampled_efficiency \u001b[38;5;241m=\u001b[39m \u001b[43mcompute_avg_normalized_efficiency_sampled\u001b[49m\u001b[43m(\u001b[49m\u001b[43mtarget_games\u001b[49m\u001b[43m,\u001b[49m\u001b[43m \u001b[49m\u001b[43msample_size\u001b[49m\u001b[38;5;241;43m=\u001b[39;49m\u001b[38;5;241;43m8\u001b[39;49m\u001b[43m)\u001b[49m\n",
      "Cell \u001b[0;32mIn[50], line 46\u001b[0m, in \u001b[0;36mcompute_avg_normalized_efficiency_sampled\u001b[0;34m(player_games, sample_size, epsilon, stockfish_path)\u001b[0m\n\u001b[1;32m     43\u001b[0m     \u001b[38;5;28;01mcontinue\u001b[39;00m\n\u001b[1;32m     45\u001b[0m elo_diff \u001b[38;5;241m=\u001b[39m \u001b[38;5;28mabs\u001b[39m(opponent_elo \u001b[38;5;241m-\u001b[39m player_elo)\n\u001b[0;32m---> 46\u001b[0m rounds \u001b[38;5;241m=\u001b[39m \u001b[43mrounds_until_win_prob_70\u001b[49m\u001b[43m(\u001b[49m\u001b[43mrow\u001b[49m\u001b[43m[\u001b[49m\u001b[38;5;124;43m'\u001b[39;49m\u001b[38;5;124;43mMoves\u001b[39;49m\u001b[38;5;124;43m'\u001b[39;49m\u001b[43m]\u001b[49m\u001b[43m,\u001b[49m\u001b[43m \u001b[49m\u001b[43mstockfish\u001b[49m\u001b[43m)\u001b[49m\n\u001b[1;32m     48\u001b[0m \u001b[38;5;28;01mif\u001b[39;00m \u001b[38;5;129;01mnot\u001b[39;00m np\u001b[38;5;241m.\u001b[39misnan(rounds):\n\u001b[1;32m     49\u001b[0m     normalized \u001b[38;5;241m=\u001b[39m rounds \u001b[38;5;241m/\u001b[39m (elo_diff \u001b[38;5;241m+\u001b[39m epsilon)\n",
      "Cell \u001b[0;32mIn[50], line 9\u001b[0m, in \u001b[0;36mrounds_until_win_prob_70\u001b[0;34m(moves, stockfish)\u001b[0m\n\u001b[1;32m      7\u001b[0m \u001b[38;5;28;01mfor\u001b[39;00m i, move \u001b[38;5;129;01min\u001b[39;00m \u001b[38;5;28menumerate\u001b[39m(moves):\n\u001b[1;32m      8\u001b[0m     stockfish\u001b[38;5;241m.\u001b[39mmake_moves_from_current_position([move])\n\u001b[0;32m----> 9\u001b[0m     eval_ \u001b[38;5;241m=\u001b[39m \u001b[43mstockfish\u001b[49m\u001b[38;5;241;43m.\u001b[39;49m\u001b[43mget_evaluation\u001b[49m\u001b[43m(\u001b[49m\u001b[43m)\u001b[49m\n\u001b[1;32m     10\u001b[0m     \u001b[38;5;28;01mif\u001b[39;00m eval_[\u001b[38;5;124m'\u001b[39m\u001b[38;5;124mtype\u001b[39m\u001b[38;5;124m'\u001b[39m] \u001b[38;5;241m!=\u001b[39m \u001b[38;5;124m'\u001b[39m\u001b[38;5;124mcp\u001b[39m\u001b[38;5;124m'\u001b[39m:\n\u001b[1;32m     11\u001b[0m         \u001b[38;5;28;01mcontinue\u001b[39;00m  \u001b[38;5;66;03m# Skip mate evaluations\u001b[39;00m\n",
      "File \u001b[0;32m/Library/Frameworks/Python.framework/Versions/3.10/lib/python3.10/site-packages/stockfish/models.py:505\u001b[0m, in \u001b[0;36mStockfish.get_evaluation\u001b[0;34m(self)\u001b[0m\n\u001b[1;32m    503\u001b[0m \u001b[38;5;28mself\u001b[39m\u001b[38;5;241m.\u001b[39m_go()\n\u001b[1;32m    504\u001b[0m \u001b[38;5;28;01mwhile\u001b[39;00m \u001b[38;5;28;01mTrue\u001b[39;00m:\n\u001b[0;32m--> 505\u001b[0m     text \u001b[38;5;241m=\u001b[39m \u001b[38;5;28;43mself\u001b[39;49m\u001b[38;5;241;43m.\u001b[39;49m\u001b[43m_read_line\u001b[49m\u001b[43m(\u001b[49m\u001b[43m)\u001b[49m\n\u001b[1;32m    506\u001b[0m     splitted_text \u001b[38;5;241m=\u001b[39m text\u001b[38;5;241m.\u001b[39msplit(\u001b[38;5;124m\"\u001b[39m\u001b[38;5;124m \u001b[39m\u001b[38;5;124m\"\u001b[39m)\n\u001b[1;32m    507\u001b[0m     \u001b[38;5;28;01mif\u001b[39;00m splitted_text[\u001b[38;5;241m0\u001b[39m] \u001b[38;5;241m==\u001b[39m \u001b[38;5;124m\"\u001b[39m\u001b[38;5;124minfo\u001b[39m\u001b[38;5;124m\"\u001b[39m:\n",
      "File \u001b[0;32m/Library/Frameworks/Python.framework/Versions/3.10/lib/python3.10/site-packages/stockfish/models.py:161\u001b[0m, in \u001b[0;36mStockfish._read_line\u001b[0;34m(self)\u001b[0m\n\u001b[1;32m    159\u001b[0m \u001b[38;5;28;01mif\u001b[39;00m \u001b[38;5;28mself\u001b[39m\u001b[38;5;241m.\u001b[39m_stockfish\u001b[38;5;241m.\u001b[39mpoll() \u001b[38;5;129;01mis\u001b[39;00m \u001b[38;5;129;01mnot\u001b[39;00m \u001b[38;5;28;01mNone\u001b[39;00m:\n\u001b[1;32m    160\u001b[0m     \u001b[38;5;28;01mraise\u001b[39;00m StockfishException(\u001b[38;5;124m\"\u001b[39m\u001b[38;5;124mThe Stockfish process has crashed\u001b[39m\u001b[38;5;124m\"\u001b[39m)\n\u001b[0;32m--> 161\u001b[0m \u001b[38;5;28;01mreturn\u001b[39;00m \u001b[38;5;28;43mself\u001b[39;49m\u001b[38;5;241;43m.\u001b[39;49m\u001b[43m_stockfish\u001b[49m\u001b[38;5;241;43m.\u001b[39;49m\u001b[43mstdout\u001b[49m\u001b[38;5;241;43m.\u001b[39;49m\u001b[43mreadline\u001b[49m\u001b[43m(\u001b[49m\u001b[43m)\u001b[49m\u001b[38;5;241m.\u001b[39mstrip()\n",
      "\u001b[0;31mKeyboardInterrupt\u001b[0m: "
     ]
    }
   ],
   "source": [
    "#sampled_efficiency = compute_avg_normalized_efficiency_sampled(target_games, sample_size=8) #If you want to rerun the model just discomment"
   ]
  },
  {
   "cell_type": "markdown",
   "metadata": {},
   "source": [
    "## Importing Data From Stockfish Prediction rounds until p(win) > .70"
   ]
  },
  {
   "cell_type": "code",
   "execution_count": 33,
   "metadata": {},
   "outputs": [],
   "source": [
    "tactical_df=pd.read_csv('sampled_efficiency_norm.csv')"
   ]
  },
  {
   "cell_type": "code",
   "execution_count": 34,
   "metadata": {},
   "outputs": [],
   "source": [
    "tactical_df[\"month\"] = pd.to_datetime(tactical_df[\"month_year\"]).dt.to_period(\"M\")\n",
    "tactical_df = tactical_df.drop(columns=[\"month_year\", \"Unnamed: 0\"])\n",
    "# Merge on player_id and month\n",
    "tactical_df = tactical_df.rename(columns={\"avg_normalized_efficiency\": \"tactical_efficiency\"})\n",
    "panel_df = panel_df.merge(tactical_df, on=[\"player_id\", \"month\"], how=\"left\")\n"
   ]
  },
  {
   "cell_type": "code",
   "execution_count": 35,
   "metadata": {},
   "outputs": [],
   "source": [
    "tactical_rows = []\n",
    "\n",
    "for player_id, group in panel_df.groupby(\"player_id\"):\n",
    "    row = {\"player_id\": player_id}\n",
    "\n",
    "    series = group.set_index(\"month\")[\"tactical_efficiency\"]\n",
    "    weights = group.set_index(\"month\")[\"games_played\"]\n",
    "\n",
    "    row.update(compute_trend_features(series, weights, prefix=\"tactical\"))\n",
    "    tactical_rows.append(row)\n",
    "\n",
    "tactical_trend_df = pd.DataFrame(tactical_rows)"
   ]
  },
  {
   "cell_type": "code",
   "execution_count": 36,
   "metadata": {},
   "outputs": [],
   "source": [
    "spacing_rows = []\n",
    "\n",
    "for idx, row in df.iterrows():\n",
    "    player_id = row[\"player_id\"]\n",
    "    spacing_dict = row[\"monthly_spacing\"]\n",
    "\n",
    "    if not isinstance(spacing_dict, dict):\n",
    "        continue\n",
    "\n",
    "    for month, metrics in spacing_dict.items():\n",
    "        flat_row = {\n",
    "            \"player_id\": player_id,\n",
    "            \"month\": month\n",
    "        }\n",
    "        flat_row.update(metrics)\n",
    "        spacing_rows.append(flat_row)\n",
    "\n",
    "spacing_df = pd.DataFrame(spacing_rows)\n",
    "\n",
    "#Adjust date format\n",
    "spacing_df[\"month\"] = pd.to_datetime(spacing_df[\"month\"], format=\"%Y-%m\").dt.to_period(\"M\")\n"
   ]
  },
  {
   "cell_type": "code",
   "execution_count": 37,
   "metadata": {},
   "outputs": [],
   "source": [
    "panel_df = panel_df.merge(spacing_df, on=[\"player_id\", \"month\"], how=\"left\")\n"
   ]
  },
  {
   "cell_type": "code",
   "execution_count": 38,
   "metadata": {},
   "outputs": [],
   "source": [
    "panel_df.to_csv('panel_data.csv')"
   ]
  },
  {
   "cell_type": "code",
   "execution_count": 39,
   "metadata": {},
   "outputs": [],
   "source": [
    "spacing_trend_rows = []\n",
    "\n",
    "for player_id, group in spacing_df.groupby(\"player_id\"):\n",
    "    row = {\"player_id\": player_id}\n",
    "    \n",
    "    weights = group.set_index(\"month\")[\"games_played\"] if \"games_played\" in group else None\n",
    "\n",
    "    for feature in [\n",
    "        \"weighted_mean_days_between_sessions\",\n",
    "        \"std_days_between_sessions\",\n",
    "        \"max_days_between_sessions\",\n",
    "        \"percent_sessions_within_2_days\",\n",
    "        \"num_sessions_last_14_days\"\n",
    "    ]:\n",
    "        series = group.set_index(\"month\")[feature]\n",
    "        row.update(compute_trend_features(series, weights, prefix=f\"spacing_{feature}\"))\n",
    "\n",
    "    spacing_trend_rows.append(row)\n",
    "\n",
    "spacing_trend_df = pd.DataFrame(spacing_trend_rows)"
   ]
  },
  {
   "cell_type": "code",
   "execution_count": null,
   "metadata": {},
   "outputs": [],
   "source": [
    "dfs = [trend_df, engagement_df, spacing_trend_df, tactical_trend_df, challenge_df]  \n",
    "trend_df = reduce(lambda left, right: pd.merge(left, right, on=\"player_id\", how=\"outer\"), dfs)\n"
   ]
  },
  {
   "cell_type": "code",
   "execution_count": 41,
   "metadata": {},
   "outputs": [],
   "source": [
    "trend_df.to_csv('trend_df.csv')"
   ]
  },
  {
   "cell_type": "code",
   "execution_count": 42,
   "metadata": {},
   "outputs": [],
   "source": [
    "df.to_csv('sampled_players_df_2.csv')"
   ]
  }
 ],
 "metadata": {
  "kernelspec": {
   "display_name": "Python 3",
   "language": "python",
   "name": "python3"
  },
  "language_info": {
   "codemirror_mode": {
    "name": "ipython",
    "version": 3
   },
   "file_extension": ".py",
   "mimetype": "text/x-python",
   "name": "python",
   "nbconvert_exporter": "python",
   "pygments_lexer": "ipython3",
   "version": "3.10.11"
  }
 },
 "nbformat": 4,
 "nbformat_minor": 2
}
